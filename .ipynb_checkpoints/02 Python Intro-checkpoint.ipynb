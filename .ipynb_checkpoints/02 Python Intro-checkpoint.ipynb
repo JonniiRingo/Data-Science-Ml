{
 "cells": [
  {
   "cell_type": "code",
   "execution_count": 3,
   "id": "4b299288-02cc-4246-bc9f-f83738d9f6ad",
   "metadata": {},
   "outputs": [
    {
     "name": "stdout",
     "output_type": "stream",
     "text": [
      "32\n"
     ]
    }
   ],
   "source": [
    "myAge = 32\n",
    "print(myAge)"
   ]
  },
  {
   "cell_type": "code",
   "execution_count": 7,
   "id": "46ce62b7-a123-4d12-854a-5e0119a9b9ee",
   "metadata": {},
   "outputs": [
    {
     "name": "stdout",
     "output_type": "stream",
     "text": [
      "33\n"
     ]
    }
   ],
   "source": [
    "myAge = myAge + 1\n",
    "print(myAge)"
   ]
  },
  {
   "cell_type": "code",
   "execution_count": 9,
   "id": "ba023b9e-1a00-49d6-aee9-485c9f494cb8",
   "metadata": {},
   "outputs": [
    {
     "name": "stdout",
     "output_type": "stream",
     "text": [
      "11.0\n"
     ]
    }
   ],
   "source": [
    "print(myAge/3)"
   ]
  },
  {
   "cell_type": "code",
   "execution_count": 13,
   "id": "7e803a31-4181-45d2-a3fd-4347ba3ac004",
   "metadata": {},
   "outputs": [
    {
     "name": "stdout",
     "output_type": "stream",
     "text": [
      "34\n"
     ]
    }
   ],
   "source": [
    "myAge = 34\n",
    "print(myAge)"
   ]
  },
  {
   "cell_type": "code",
   "execution_count": 15,
   "id": "7676c729-c061-4beb-ad1d-468d91405f67",
   "metadata": {},
   "outputs": [],
   "source": [
    "#Challenge \n",
    "# 1) creat a variable called \"restaurantBill\" and set its value to 36\n",
    "# 2) Create a variable called serviceCharge and set its value to 0.125\n",
    "# 3) Print out the amount of tip you would need to add to the bill below the cell"
   ]
  },
  {
   "cell_type": "code",
   "execution_count": 19,
   "id": "9e8edc30-6037-4736-8245-16d7b02ce4fe",
   "metadata": {},
   "outputs": [
    {
     "name": "stdout",
     "output_type": "stream",
     "text": [
      "4.52125\n"
     ]
    }
   ],
   "source": [
    "restaurantBill = 36.17\n",
    "serviceCharge = 0.125\n",
    "tip = restaurantBill * serviceCharge\n",
    "print(tip)"
   ]
  },
  {
   "cell_type": "code",
   "execution_count": 21,
   "id": "664ae7f2-0d5d-44ec-9d1c-7d47fd632fb9",
   "metadata": {},
   "outputs": [
    {
     "data": {
      "text/plain": [
       "int"
      ]
     },
     "execution_count": 21,
     "metadata": {},
     "output_type": "execute_result"
    }
   ],
   "source": [
    "type(33)"
   ]
  },
  {
   "cell_type": "code",
   "execution_count": 23,
   "id": "aa36ae60-c9ca-4251-9a81-3b2304395de7",
   "metadata": {},
   "outputs": [
    {
     "data": {
      "text/plain": [
       "float"
      ]
     },
     "execution_count": 23,
     "metadata": {},
     "output_type": "execute_result"
    }
   ],
   "source": [
    "type(33.6)"
   ]
  },
  {
   "cell_type": "code",
   "execution_count": 25,
   "id": "11b3f1d4-3f6c-4b64-a75d-e943e67fbb3c",
   "metadata": {},
   "outputs": [
    {
     "data": {
      "text/plain": [
       "str"
      ]
     },
     "execution_count": 25,
     "metadata": {},
     "output_type": "execute_result"
    }
   ],
   "source": [
    "type('Jonnii')"
   ]
  },
  {
   "cell_type": "code",
   "execution_count": 27,
   "id": "2e84ee37-6e32-4101-9119-a530cc2df168",
   "metadata": {},
   "outputs": [
    {
     "data": {
      "text/plain": [
       "int"
      ]
     },
     "execution_count": 27,
     "metadata": {},
     "output_type": "execute_result"
    }
   ],
   "source": [
    "type(myAge)"
   ]
  },
  {
   "cell_type": "code",
   "execution_count": 29,
   "id": "6a123aa7-1fd8-46af-a3fc-b4eb7031dd4b",
   "metadata": {},
   "outputs": [
    {
     "data": {
      "text/plain": [
       "float"
      ]
     },
     "execution_count": 29,
     "metadata": {},
     "output_type": "execute_result"
    }
   ],
   "source": [
    "type(restaurantBill)"
   ]
  },
  {
   "cell_type": "code",
   "execution_count": 37,
   "id": "b25ed1c4-7772-4ffa-9a75-540220730a59",
   "metadata": {},
   "outputs": [
    {
     "data": {
      "text/plain": [
       "str"
      ]
     },
     "execution_count": 37,
     "metadata": {},
     "output_type": "execute_result"
    }
   ],
   "source": [
    "myName = \"Jonnii\"\n",
    "type(myName)"
   ]
  },
  {
   "cell_type": "code",
   "execution_count": null,
   "id": "6474a002-d731-43a1-a83f-08ee3e62123f",
   "metadata": {},
   "outputs": [],
   "source": []
  }
 ],
 "metadata": {
  "kernelspec": {
   "display_name": "Python 3 (ipykernel)",
   "language": "python",
   "name": "python3"
  },
  "language_info": {
   "codemirror_mode": {
    "name": "ipython",
    "version": 3
   },
   "file_extension": ".py",
   "mimetype": "text/x-python",
   "name": "python",
   "nbconvert_exporter": "python",
   "pygments_lexer": "ipython3",
   "version": "3.11.7"
  }
 },
 "nbformat": 4,
 "nbformat_minor": 5
}
